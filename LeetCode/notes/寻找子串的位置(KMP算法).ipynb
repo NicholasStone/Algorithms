{
 "cells": [
  {
   "cell_type": "markdown",
   "source": [
    "# KMP 算法的实现\n",
    "\n",
    "## 视频地址\n",
    "[https://www.bilibili.com/video/BV1jb411V78H](https://www.bilibili.com/video/BV1jb411V78H)\n",
    "[https://www.bilibili.com/video/BV1Z7411R7eC?p=146](https://www.bilibili.com/video/BV1Z7411R7eC?p=146 )\n",
    "\n",
    "## 总体思想\n",
    "KMP 算法的核心是通过使用 pattern 自身的特点来规避掉重复的操作。\n",
    "对于一般的字符查找来说，每一次查找都是使用 string 的某一个位置 pos* 开始与 pattern 串开始比较，每查找一次就得从头开始，因此其时间复杂度为 O(m*n)\n",
    "而 KMP 算法则是通过先对 pattern 串进行处理，然后进行操作。其核心是一个叫做 `next` 数组的东西\n",
    "\n",
    "## 生成 next 数组的函数 BuildNext\n",
    "$$\n",
    "next(x)=\\begin{cases}\n",
    "max(i): p_0,...,p_i = p_{j-i}, ..., p_j (i < j) \\cr -1\n",
    "\\end{cases}\n",
    "$$\n",
    "\n",
    "### 视频资料\n",
    "[https://www.bilibili.com/video/BV1Z7411R7eC?p=148&t=01m49s](https://www.bilibili.com/video/BV1Z7411R7eC?p=148&t=01m49s)"
   ],
   "metadata": {
    "collapsed": false,
    "pycharm": {
     "name": "#%% md\n"
    }
   }
  },
  {
   "cell_type": "code",
   "execution_count": 37,
   "outputs": [],
   "source": [
    "from typing import List\n",
    "\n",
    "\n",
    "def buildNext(pattern: str) -> List[int]:\n",
    "    pattern_length = len(pattern)\n",
    "    next = [-1] * pattern_length\n",
    "    # 遍历 pattern，计算每一个 next 值\n",
    "    for j in range(pattern_length)[1:]:\n",
    "        # 保存 `next[j-1]` 到一个i中\n",
    "        i = next[j - 1]\n",
    "        # 对于`pattern[next[j-1]+1]` 不等于 `pattern[j]`的情况不等于的情况，则对比 `pattern[next[next[j-1]]+1]` 与 `pattern[j]` 的情况，以此类推。\n",
    "        while i >= 0 and pattern[i + 1] != pattern[j]:\n",
    "            i = next[i]\n",
    "        # 对于`pattern[next[j-1]+1]` 正好等于 `pattern[j]`的情况,直接将对应的next值放入即可\n",
    "        if pattern[i + 1] == pattern[j]:\n",
    "            next[j] = i + 1\n",
    "    # 如果没有任何一个真子串可以匹配到对应位置，此时i == -1\n",
    "    #     else:\n",
    "    #         print(j)\n",
    "    #         next[j] = -1\n",
    "\n",
    "    return next"
   ],
   "metadata": {
    "collapsed": false,
    "pycharm": {
     "name": "#%%\n"
    }
   }
  },
  {
   "cell_type": "markdown",
   "source": [
    "## 算法细节\n",
    "准备工作"
   ],
   "metadata": {
    "collapsed": false
   }
  },
  {
   "cell_type": "code",
   "execution_count": 38,
   "outputs": [],
   "source": [
    "def kmp(string: str, pattern: str) -> int:\n",
    "    NOT_FOUND = -1\n",
    "    string_length = len(string)\n",
    "    pattern_length = len(pattern)\n",
    "\n",
    "    if string_length < pattern_length:\n",
    "        return NOT_FOUND\n",
    "\n",
    "    string_pointer = 0\n",
    "    pattern_pointer = 0\n",
    "\n",
    "    next = buildNext(pattern)\n",
    "    # 当两个指针 string_pointer 与 pattern_pointer 没有超过对应字符串长度时，比较继续\n",
    "    while string_pointer < string_length and pattern_pointer < pattern_length:\n",
    "        # 当两个指针所指的字母相同时，都向后移动一位\n",
    "        if string[string_pointer] == pattern[pattern_pointer]:\n",
    "            string_pointer += 1\n",
    "            pattern_pointer += 1\n",
    "        # 否则就将 `pattern_pointer` 移动到 next 函数所对应的位置上 (对于  `pattern_pointer` 指针已经在后面几位的情况)\n",
    "        elif pattern_pointer > 0:\n",
    "            pattern_pointer = next[pattern_pointer - 1] + 1\n",
    "        # 对于 `pattern_pointer` 指针在 0 位的情况，说明此时 `pattern` 中没有对应的（从开头开始的）子字符串与 `string` 对应，则直接从下一位进行比较( `string_pointer` += 1)\n",
    "        else:\n",
    "            string_pointer += 1\n",
    "    # 当循环结束时有两种情况\n",
    "    # 没有匹配到 或者 匹配成功\n",
    "    # 如果 `pattern_pointer` 与 `pattern_length` 相等，则匹配成功\n",
    "    # 如果不相等，则说明 `pattern` 已经超过了 `string` 的剩余长度，则返回 -1\n",
    "    return string_pointer - pattern_length if pattern_pointer == pattern_length else NOT_FOUND"
   ],
   "metadata": {
    "collapsed": false,
    "pycharm": {
     "name": "#%%\n"
    }
   }
  },
  {
   "cell_type": "markdown",
   "source": [
    "## 测试"
   ],
   "metadata": {
    "collapsed": false
   }
  },
  {
   "cell_type": "code",
   "execution_count": 39,
   "outputs": [],
   "source": [
    "string = \"Lorem ipsum dolor sit amet, consectetur adipiscing elit. In a ipsum vitae leo tristique facilisis eu in nunc. Aliquam eu risus nec lectus gravida iaculis. Mauris sed dapibus sem. Nunc ac nunc non urna fermentum ultrices. Donec cursus commodo ipsum, ut facilisis nulla efficitur sit amet. Vestibulum erat diam, elementum vitae condimentum ut, tempus ut nulla. Nam mollis pharetra libero eget tempor.\""
   ],
   "metadata": {
    "collapsed": false,
    "pycharm": {
     "name": "#%%\n"
    }
   }
  },
  {
   "cell_type": "code",
   "execution_count": 40,
   "outputs": [],
   "source": [
    "pattern = \"sem\""
   ],
   "metadata": {
    "collapsed": false,
    "pycharm": {
     "name": "#%%\n"
    }
   }
  },
  {
   "cell_type": "code",
   "execution_count": 41,
   "outputs": [
    {
     "name": "stdout",
     "output_type": "stream",
     "text": [
      "174\n",
      "174\n"
     ]
    }
   ],
   "source": [
    "print(string.find(pattern))\n",
    "print(kmp(string, pattern))"
   ],
   "metadata": {
    "collapsed": false,
    "pycharm": {
     "name": "#%%\n"
    }
   }
  }
 ],
 "metadata": {
  "kernelspec": {
   "display_name": "Python 3",
   "language": "python",
   "name": "python3"
  },
  "language_info": {
   "codemirror_mode": {
    "name": "ipython",
    "version": 2
   },
   "file_extension": ".py",
   "mimetype": "text/x-python",
   "name": "python",
   "nbconvert_exporter": "python",
   "pygments_lexer": "ipython2",
   "version": "2.7.6"
  }
 },
 "nbformat": 4,
 "nbformat_minor": 0
}